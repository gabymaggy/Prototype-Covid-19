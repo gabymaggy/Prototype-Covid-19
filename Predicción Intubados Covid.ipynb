{
 "cells": [
  {
   "cell_type": "code",
   "execution_count": 1,
   "metadata": {},
   "outputs": [
    {
     "name": "stderr",
     "output_type": "stream",
     "text": [
      "Using TensorFlow backend.\n",
      "C:\\Users\\Fer\\anaconda3\\lib\\site-packages\\tensorflow\\python\\framework\\dtypes.py:516: FutureWarning: Passing (type, 1) or '1type' as a synonym of type is deprecated; in a future version of numpy, it will be understood as (type, (1,)) / '(1,)type'.\n",
      "  _np_qint8 = np.dtype([(\"qint8\", np.int8, 1)])\n",
      "C:\\Users\\Fer\\anaconda3\\lib\\site-packages\\tensorflow\\python\\framework\\dtypes.py:517: FutureWarning: Passing (type, 1) or '1type' as a synonym of type is deprecated; in a future version of numpy, it will be understood as (type, (1,)) / '(1,)type'.\n",
      "  _np_quint8 = np.dtype([(\"quint8\", np.uint8, 1)])\n",
      "C:\\Users\\Fer\\anaconda3\\lib\\site-packages\\tensorflow\\python\\framework\\dtypes.py:518: FutureWarning: Passing (type, 1) or '1type' as a synonym of type is deprecated; in a future version of numpy, it will be understood as (type, (1,)) / '(1,)type'.\n",
      "  _np_qint16 = np.dtype([(\"qint16\", np.int16, 1)])\n",
      "C:\\Users\\Fer\\anaconda3\\lib\\site-packages\\tensorflow\\python\\framework\\dtypes.py:519: FutureWarning: Passing (type, 1) or '1type' as a synonym of type is deprecated; in a future version of numpy, it will be understood as (type, (1,)) / '(1,)type'.\n",
      "  _np_quint16 = np.dtype([(\"quint16\", np.uint16, 1)])\n",
      "C:\\Users\\Fer\\anaconda3\\lib\\site-packages\\tensorflow\\python\\framework\\dtypes.py:520: FutureWarning: Passing (type, 1) or '1type' as a synonym of type is deprecated; in a future version of numpy, it will be understood as (type, (1,)) / '(1,)type'.\n",
      "  _np_qint32 = np.dtype([(\"qint32\", np.int32, 1)])\n",
      "C:\\Users\\Fer\\anaconda3\\lib\\site-packages\\tensorflow\\python\\framework\\dtypes.py:525: FutureWarning: Passing (type, 1) or '1type' as a synonym of type is deprecated; in a future version of numpy, it will be understood as (type, (1,)) / '(1,)type'.\n",
      "  np_resource = np.dtype([(\"resource\", np.ubyte, 1)])\n",
      "C:\\Users\\Fer\\anaconda3\\lib\\site-packages\\tensorboard\\compat\\tensorflow_stub\\dtypes.py:541: FutureWarning: Passing (type, 1) or '1type' as a synonym of type is deprecated; in a future version of numpy, it will be understood as (type, (1,)) / '(1,)type'.\n",
      "  _np_qint8 = np.dtype([(\"qint8\", np.int8, 1)])\n",
      "C:\\Users\\Fer\\anaconda3\\lib\\site-packages\\tensorboard\\compat\\tensorflow_stub\\dtypes.py:542: FutureWarning: Passing (type, 1) or '1type' as a synonym of type is deprecated; in a future version of numpy, it will be understood as (type, (1,)) / '(1,)type'.\n",
      "  _np_quint8 = np.dtype([(\"quint8\", np.uint8, 1)])\n",
      "C:\\Users\\Fer\\anaconda3\\lib\\site-packages\\tensorboard\\compat\\tensorflow_stub\\dtypes.py:543: FutureWarning: Passing (type, 1) or '1type' as a synonym of type is deprecated; in a future version of numpy, it will be understood as (type, (1,)) / '(1,)type'.\n",
      "  _np_qint16 = np.dtype([(\"qint16\", np.int16, 1)])\n",
      "C:\\Users\\Fer\\anaconda3\\lib\\site-packages\\tensorboard\\compat\\tensorflow_stub\\dtypes.py:544: FutureWarning: Passing (type, 1) or '1type' as a synonym of type is deprecated; in a future version of numpy, it will be understood as (type, (1,)) / '(1,)type'.\n",
      "  _np_quint16 = np.dtype([(\"quint16\", np.uint16, 1)])\n",
      "C:\\Users\\Fer\\anaconda3\\lib\\site-packages\\tensorboard\\compat\\tensorflow_stub\\dtypes.py:545: FutureWarning: Passing (type, 1) or '1type' as a synonym of type is deprecated; in a future version of numpy, it will be understood as (type, (1,)) / '(1,)type'.\n",
      "  _np_qint32 = np.dtype([(\"qint32\", np.int32, 1)])\n",
      "C:\\Users\\Fer\\anaconda3\\lib\\site-packages\\tensorboard\\compat\\tensorflow_stub\\dtypes.py:550: FutureWarning: Passing (type, 1) or '1type' as a synonym of type is deprecated; in a future version of numpy, it will be understood as (type, (1,)) / '(1,)type'.\n",
      "  np_resource = np.dtype([(\"resource\", np.ubyte, 1)])\n"
     ]
    }
   ],
   "source": [
    "import pandas as pd\n",
    "import numpy as np\n",
    "import matplotlib.pylab as plt\n",
    "%matplotlib inline\n",
    "plt.rcParams['figure.figsize'] = (16, 9)\n",
    "plt.style.use('fast')\n",
    "\n",
    "from keras.models import Sequential\n",
    "from keras.layers import Dense,Activation,Flatten\n",
    "from sklearn.preprocessing import MinMaxScaler\n"
   ]
  },
  {
   "cell_type": "code",
   "execution_count": 2,
   "metadata": {},
   "outputs": [
    {
     "data": {
      "text/plain": [
       "fecha\n",
       "2020-03-24     39\n",
       "2020-03-25     33\n",
       "2020-03-26     42\n",
       "2020-03-27     60\n",
       "2020-03-28     78\n",
       "             ... \n",
       "2021-01-07    352\n",
       "2021-02-07    362\n",
       "2021-03-07    380\n",
       "2021-04-07    378\n",
       "2021-05-07    395\n",
       "Name: intubados, Length: 469, dtype: int64"
      ]
     },
     "execution_count": 2,
     "metadata": {},
     "output_type": "execute_result"
    }
   ],
   "source": [
    "intubados = pd.read_csv(\"intubados.csv\", parse_dates=[0], header=None,index_col=0, squeeze=True,names=['fecha','intubados'])\n",
    "intubados"
   ]
  },
  {
   "cell_type": "code",
   "execution_count": 3,
   "metadata": {},
   "outputs": [
    {
     "name": "stdout",
     "output_type": "stream",
     "text": [
      "283\n",
      "186\n"
     ]
    }
   ],
   "source": [
    "#Contar los intubados por año\n",
    "print(len(intubados['2020']))\n",
    "print(len(intubados['2021']))"
   ]
  },
  {
   "cell_type": "code",
   "execution_count": 4,
   "metadata": {},
   "outputs": [
    {
     "data": {
      "text/plain": [
       "fecha\n",
       "2020-01-31     981.888889\n",
       "2020-02-29     972.444444\n",
       "2020-03-31     545.705882\n",
       "2020-04-30     798.074074\n",
       "2020-05-31    1269.392857\n",
       "2020-06-30    1180.185185\n",
       "2020-07-31    1063.750000\n",
       "2020-08-31     942.535714\n",
       "2020-09-30     912.703704\n",
       "2020-10-31     934.142857\n",
       "2020-11-30    1066.629630\n",
       "2020-12-31    1534.785714\n",
       "2021-01-31    2052.807692\n",
       "2021-02-28    1586.695652\n",
       "2021-03-31    1272.500000\n",
       "2021-04-30     941.960000\n",
       "2021-05-31     609.269231\n",
       "2021-06-30     547.958333\n",
       "2021-07-31    1301.833333\n",
       "2021-08-31    1280.833333\n",
       "2021-09-30    1273.500000\n",
       "2021-10-31    1268.333333\n",
       "2021-11-30    1269.333333\n",
       "2021-12-31    1252.666667\n",
       "Freq: M, Name: intubados, dtype: float64"
      ]
     },
     "execution_count": 4,
     "metadata": {},
     "output_type": "execute_result"
    }
   ],
   "source": [
    "#Promedio mensual\n",
    "meses =intubados.resample('M').mean()\n",
    "meses"
   ]
  },
  {
   "cell_type": "code",
   "execution_count": 5,
   "metadata": {},
   "outputs": [
    {
     "data": {
      "text/html": [
       "<div>\n",
       "<style scoped>\n",
       "    .dataframe tbody tr th:only-of-type {\n",
       "        vertical-align: middle;\n",
       "    }\n",
       "\n",
       "    .dataframe tbody tr th {\n",
       "        vertical-align: top;\n",
       "    }\n",
       "\n",
       "    .dataframe thead th {\n",
       "        text-align: right;\n",
       "    }\n",
       "</style>\n",
       "<table border=\"1\" class=\"dataframe\">\n",
       "  <thead>\n",
       "    <tr style=\"text-align: right;\">\n",
       "      <th></th>\n",
       "      <th>var1(t-7)</th>\n",
       "      <th>var1(t-6)</th>\n",
       "      <th>var1(t-5)</th>\n",
       "      <th>var1(t-4)</th>\n",
       "      <th>var1(t-3)</th>\n",
       "      <th>var1(t-2)</th>\n",
       "      <th>var1(t-1)</th>\n",
       "      <th>var1(t)</th>\n",
       "    </tr>\n",
       "  </thead>\n",
       "  <tbody>\n",
       "    <tr>\n",
       "      <th>7</th>\n",
       "      <td>-0.994956</td>\n",
       "      <td>-1.000000</td>\n",
       "      <td>-0.992434</td>\n",
       "      <td>-0.977301</td>\n",
       "      <td>-0.962169</td>\n",
       "      <td>-0.957125</td>\n",
       "      <td>-0.936108</td>\n",
       "      <td>-0.925179</td>\n",
       "    </tr>\n",
       "    <tr>\n",
       "      <th>8</th>\n",
       "      <td>-1.000000</td>\n",
       "      <td>-0.992434</td>\n",
       "      <td>-0.977301</td>\n",
       "      <td>-0.962169</td>\n",
       "      <td>-0.957125</td>\n",
       "      <td>-0.936108</td>\n",
       "      <td>-0.925179</td>\n",
       "      <td>-0.915931</td>\n",
       "    </tr>\n",
       "    <tr>\n",
       "      <th>9</th>\n",
       "      <td>-0.992434</td>\n",
       "      <td>-0.977301</td>\n",
       "      <td>-0.962169</td>\n",
       "      <td>-0.957125</td>\n",
       "      <td>-0.936108</td>\n",
       "      <td>-0.925179</td>\n",
       "      <td>-0.915931</td>\n",
       "      <td>-0.907524</td>\n",
       "    </tr>\n",
       "    <tr>\n",
       "      <th>10</th>\n",
       "      <td>-0.977301</td>\n",
       "      <td>-0.962169</td>\n",
       "      <td>-0.957125</td>\n",
       "      <td>-0.936108</td>\n",
       "      <td>-0.925179</td>\n",
       "      <td>-0.915931</td>\n",
       "      <td>-0.907524</td>\n",
       "      <td>-0.917612</td>\n",
       "    </tr>\n",
       "    <tr>\n",
       "      <th>11</th>\n",
       "      <td>-0.962169</td>\n",
       "      <td>-0.957125</td>\n",
       "      <td>-0.936108</td>\n",
       "      <td>-0.925179</td>\n",
       "      <td>-0.915931</td>\n",
       "      <td>-0.907524</td>\n",
       "      <td>-0.917612</td>\n",
       "      <td>-0.916772</td>\n",
       "    </tr>\n",
       "  </tbody>\n",
       "</table>\n",
       "</div>"
      ],
      "text/plain": [
       "    var1(t-7)  var1(t-6)  var1(t-5)  var1(t-4)  var1(t-3)  var1(t-2)  \\\n",
       "7   -0.994956  -1.000000  -0.992434  -0.977301  -0.962169  -0.957125   \n",
       "8   -1.000000  -0.992434  -0.977301  -0.962169  -0.957125  -0.936108   \n",
       "9   -0.992434  -0.977301  -0.962169  -0.957125  -0.936108  -0.925179   \n",
       "10  -0.977301  -0.962169  -0.957125  -0.936108  -0.925179  -0.915931   \n",
       "11  -0.962169  -0.957125  -0.936108  -0.925179  -0.915931  -0.907524   \n",
       "\n",
       "    var1(t-1)   var1(t)  \n",
       "7   -0.936108 -0.925179  \n",
       "8   -0.925179 -0.915931  \n",
       "9   -0.915931 -0.907524  \n",
       "10  -0.907524 -0.917612  \n",
       "11  -0.917612 -0.916772  "
      ]
     },
     "execution_count": 5,
     "metadata": {},
     "output_type": "execute_result"
    }
   ],
   "source": [
    "PASOS=7\n",
    " \n",
    "# convertir serie temporal en datos de tipo supervisado\n",
    "def series_to_supervised(data, n_in=1, n_out=1, dropnan=True):\n",
    "    n_vars = 1 if type(data) is list else data.shape[1]\n",
    "    intubados = pd.DataFrame(data)\n",
    "    cols, names = list(), list()\n",
    "    # secuencia (t-n, ... t-1)\n",
    "    for i in range(n_in, 0, -1):\n",
    "        cols.append(intubados.shift(i))\n",
    "        names += [('var%d(t-%d)' % (j+1, i)) for j in range(n_vars)]\n",
    "    # forecast secuencia (t, t+1, ... t+n)\n",
    "    for i in range(0, n_out):\n",
    "        cols.append(intubados.shift(-i))\n",
    "        if i == 0:\n",
    "            names += [('var%d(t)' % (j+1)) for j in range(n_vars)]\n",
    "        else:\n",
    "            names += [('var%d(t+%d)' % (j+1, i)) for j in range(n_vars)]\n",
    "    # put it all together\n",
    "    agg = pd.concat(cols, axis=1)\n",
    "    agg.columns = names\n",
    "    # quitar NaN \n",
    "    if dropnan:\n",
    "        agg.dropna(inplace=True)\n",
    "    return agg\n",
    " \n",
    "# load dataset\n",
    "values = intubados.values\n",
    "# todos los datos son float\n",
    "values = values.astype('float32')\n",
    "# normalizar de -1 a 1\n",
    "scaler = MinMaxScaler(feature_range=(-1, 1))\n",
    "values=values.reshape(-1, 1) # esto lo hacemos porque tenemos 1 sola dimension\n",
    "scaled = scaler.fit_transform(values)\n",
    "reframed = series_to_supervised(scaled, PASOS, 1)\n",
    "reframed.head()"
   ]
  },
  {
   "cell_type": "code",
   "execution_count": 6,
   "metadata": {},
   "outputs": [
    {
     "name": "stdout",
     "output_type": "stream",
     "text": [
      "(432, 1, 7) (432,) (30, 1, 7) (30,)\n"
     ]
    }
   ],
   "source": [
    "# Dividir en train y test\n",
    "values = reframed.values\n",
    "n_train_days = 283+186 - (30+PASOS)\n",
    "train = values[:n_train_days, :]\n",
    "test = values[n_train_days:, :]\n",
    "# dividir en entradas y salidas\n",
    "x_train, y_train = train[:, :-1], train[:, -1]\n",
    "x_val, y_val = test[:, :-1], test[:, -1]\n",
    "# reshape entrada a 3 dimensiones [samples, timesteps, features]\n",
    "x_train = x_train.reshape((x_train.shape[0], 1, x_train.shape[1]))\n",
    "x_val = x_val.reshape((x_val.shape[0], 1, x_val.shape[1]))\n",
    "print(x_train.shape, y_train.shape, x_val.shape, y_val.shape)"
   ]
  },
  {
   "cell_type": "code",
   "execution_count": 7,
   "metadata": {},
   "outputs": [],
   "source": [
    "#Modelo. Secuencial, activación tangente hiperbólica, optimizador adam  \n",
    "def crear_modeloFF():\n",
    "    model = Sequential() \n",
    "    model.add(Dense(PASOS, input_shape=(1,PASOS),activation='tanh'))\n",
    "    model.add(Flatten())\n",
    "    model.add(Dense(1, activation='tanh'))\n",
    "    model.compile(loss='mean_absolute_error',optimizer='Adam',metrics=[\"mse\"])\n",
    "    model.summary()\n",
    "    return model\n"
   ]
  },
  {
   "cell_type": "code",
   "execution_count": 8,
   "metadata": {},
   "outputs": [
    {
     "name": "stdout",
     "output_type": "stream",
     "text": [
      "Model: \"sequential_1\"\n",
      "_________________________________________________________________\n",
      "Layer (type)                 Output Shape              Param #   \n",
      "=================================================================\n",
      "dense_1 (Dense)              (None, 1, 7)              56        \n",
      "_________________________________________________________________\n",
      "flatten_1 (Flatten)          (None, 7)                 0         \n",
      "_________________________________________________________________\n",
      "dense_2 (Dense)              (None, 1)                 8         \n",
      "=================================================================\n",
      "Total params: 64\n",
      "Trainable params: 64\n",
      "Non-trainable params: 0\n",
      "_________________________________________________________________\n",
      "WARNING:tensorflow:From C:\\Users\\Fer\\anaconda3\\lib\\site-packages\\keras\\backend\\tensorflow_backend.py:422: The name tf.global_variables is deprecated. Please use tf.compat.v1.global_variables instead.\n",
      "\n",
      "Train on 432 samples, validate on 30 samples\n",
      "Epoch 1/50\n",
      "432/432 [==============================] - 0s 505us/step - loss: 0.5075 - mse: 0.4460 - val_loss: 0.4674 - val_mse: 0.2196\n",
      "Epoch 2/50\n",
      "432/432 [==============================] - 0s 180us/step - loss: 0.1156 - mse: 0.0293 - val_loss: 0.1531 - val_mse: 0.0242\n",
      "Epoch 3/50\n",
      "432/432 [==============================] - 0s 165us/step - loss: 0.0759 - mse: 0.0104 - val_loss: 0.1312 - val_mse: 0.0179\n",
      "Epoch 4/50\n",
      "432/432 [==============================] - 0s 143us/step - loss: 0.0682 - mse: 0.0083 - val_loss: 0.1249 - val_mse: 0.0162\n",
      "Epoch 5/50\n",
      "432/432 [==============================] - 0s 125us/step - loss: 0.0600 - mse: 0.0066 - val_loss: 0.0765 - val_mse: 0.0064\n",
      "Epoch 6/50\n",
      "432/432 [==============================] - 0s 132us/step - loss: 0.0529 - mse: 0.0051 - val_loss: 0.0920 - val_mse: 0.0089\n",
      "Epoch 7/50\n",
      "432/432 [==============================] - 0s 155us/step - loss: 0.0475 - mse: 0.0042 - val_loss: 0.0651 - val_mse: 0.0047\n",
      "Epoch 8/50\n",
      "432/432 [==============================] - 0s 127us/step - loss: 0.0424 - mse: 0.0035 - val_loss: 0.0482 - val_mse: 0.0027\n",
      "Epoch 9/50\n",
      "432/432 [==============================] - 0s 143us/step - loss: 0.0389 - mse: 0.0029 - val_loss: 0.0414 - val_mse: 0.0021\n",
      "Epoch 10/50\n",
      "432/432 [==============================] - 0s 133us/step - loss: 0.0359 - mse: 0.0025 - val_loss: 0.0364 - val_mse: 0.0016\n",
      "Epoch 11/50\n",
      "432/432 [==============================] - 0s 145us/step - loss: 0.0353 - mse: 0.0023 - val_loss: 0.0303 - val_mse: 0.0012\n",
      "Epoch 12/50\n",
      "432/432 [==============================] - 0s 126us/step - loss: 0.0335 - mse: 0.0021 - val_loss: 0.0159 - val_mse: 3.5836e-04\n",
      "Epoch 13/50\n",
      "432/432 [==============================] - 0s 141us/step - loss: 0.0328 - mse: 0.0020 - val_loss: 0.0180 - val_mse: 4.3129e-04\n",
      "Epoch 14/50\n",
      "432/432 [==============================] - 0s 143us/step - loss: 0.0320 - mse: 0.0019 - val_loss: 0.0208 - val_mse: 5.7731e-04\n",
      "Epoch 15/50\n",
      "432/432 [==============================] - 0s 151us/step - loss: 0.0315 - mse: 0.0019 - val_loss: 0.0170 - val_mse: 3.8733e-04\n",
      "Epoch 16/50\n",
      "432/432 [==============================] - 0s 120us/step - loss: 0.0314 - mse: 0.0019 - val_loss: 0.0158 - val_mse: 3.3945e-04\n",
      "Epoch 17/50\n",
      "432/432 [==============================] - 0s 136us/step - loss: 0.0315 - mse: 0.0019 - val_loss: 0.0253 - val_mse: 8.2715e-04\n",
      "Epoch 18/50\n",
      "432/432 [==============================] - 0s 128us/step - loss: 0.0306 - mse: 0.0018 - val_loss: 0.0186 - val_mse: 4.6838e-04\n",
      "Epoch 19/50\n",
      "432/432 [==============================] - 0s 124us/step - loss: 0.0306 - mse: 0.0018 - val_loss: 0.0153 - val_mse: 3.2022e-04\n",
      "Epoch 20/50\n",
      "432/432 [==============================] - 0s 141us/step - loss: 0.0309 - mse: 0.0018 - val_loss: 0.0214 - val_mse: 6.0297e-04\n",
      "Epoch 21/50\n",
      "432/432 [==============================] - 0s 136us/step - loss: 0.0304 - mse: 0.0018 - val_loss: 0.0196 - val_mse: 5.1845e-04\n",
      "Epoch 22/50\n",
      "432/432 [==============================] - 0s 138us/step - loss: 0.0304 - mse: 0.0017 - val_loss: 0.0168 - val_mse: 3.7979e-04\n",
      "Epoch 23/50\n",
      "432/432 [==============================] - 0s 136us/step - loss: 0.0306 - mse: 0.0017 - val_loss: 0.0262 - val_mse: 8.7822e-04\n",
      "Epoch 24/50\n",
      "432/432 [==============================] - 0s 148us/step - loss: 0.0301 - mse: 0.0017 - val_loss: 0.0245 - val_mse: 7.7741e-04\n",
      "Epoch 25/50\n",
      "432/432 [==============================] - 0s 137us/step - loss: 0.0298 - mse: 0.0017 - val_loss: 0.0163 - val_mse: 3.5786e-04\n",
      "Epoch 26/50\n",
      "432/432 [==============================] - 0s 145us/step - loss: 0.0294 - mse: 0.0016 - val_loss: 0.0143 - val_mse: 2.9047e-04\n",
      "Epoch 27/50\n",
      "432/432 [==============================] - 0s 146us/step - loss: 0.0312 - mse: 0.0018 - val_loss: 0.0143 - val_mse: 2.8516e-04\n",
      "Epoch 28/50\n",
      "432/432 [==============================] - 0s 143us/step - loss: 0.0298 - mse: 0.0017 - val_loss: 0.0143 - val_mse: 2.8033e-04\n",
      "Epoch 29/50\n",
      "432/432 [==============================] - 0s 136us/step - loss: 0.0295 - mse: 0.0016 - val_loss: 0.0149 - val_mse: 3.0490e-04\n",
      "Epoch 30/50\n",
      "432/432 [==============================] - 0s 132us/step - loss: 0.0292 - mse: 0.0016 - val_loss: 0.0142 - val_mse: 2.7700e-04\n",
      "Epoch 31/50\n",
      "432/432 [==============================] - 0s 128us/step - loss: 0.0295 - mse: 0.0016 - val_loss: 0.0171 - val_mse: 3.9649e-04\n",
      "Epoch 32/50\n",
      "432/432 [==============================] - 0s 136us/step - loss: 0.0294 - mse: 0.0016 - val_loss: 0.0153 - val_mse: 3.2081e-04\n",
      "Epoch 33/50\n",
      "432/432 [==============================] - 0s 126us/step - loss: 0.0292 - mse: 0.0016 - val_loss: 0.0255 - val_mse: 8.3398e-04\n",
      "Epoch 34/50\n",
      "432/432 [==============================] - 0s 139us/step - loss: 0.0290 - mse: 0.0016 - val_loss: 0.0187 - val_mse: 4.7634e-04\n",
      "Epoch 35/50\n",
      "432/432 [==============================] - 0s 145us/step - loss: 0.0287 - mse: 0.0016 - val_loss: 0.0150 - val_mse: 3.1101e-04\n",
      "Epoch 36/50\n",
      "432/432 [==============================] - 0s 134us/step - loss: 0.0287 - mse: 0.0016 - val_loss: 0.0177 - val_mse: 4.3023e-04\n",
      "Epoch 37/50\n",
      "432/432 [==============================] - 0s 131us/step - loss: 0.0287 - mse: 0.0016 - val_loss: 0.0148 - val_mse: 3.0052e-04\n",
      "Epoch 38/50\n",
      "432/432 [==============================] - 0s 143us/step - loss: 0.0287 - mse: 0.0016 - val_loss: 0.0175 - val_mse: 4.2186e-04\n",
      "Epoch 39/50\n",
      "432/432 [==============================] - 0s 142us/step - loss: 0.0287 - mse: 0.0015 - val_loss: 0.0221 - val_mse: 6.3643e-04\n",
      "Epoch 40/50\n",
      "432/432 [==============================] - 0s 134us/step - loss: 0.0286 - mse: 0.0015 - val_loss: 0.0163 - val_mse: 3.5674e-04\n",
      "Epoch 41/50\n",
      "432/432 [==============================] - 0s 134us/step - loss: 0.0280 - mse: 0.0015 - val_loss: 0.0172 - val_mse: 4.0491e-04\n",
      "Epoch 42/50\n",
      "432/432 [==============================] - 0s 132us/step - loss: 0.0287 - mse: 0.0016 - val_loss: 0.0145 - val_mse: 3.4277e-04\n",
      "Epoch 43/50\n",
      "432/432 [==============================] - 0s 126us/step - loss: 0.0282 - mse: 0.0015 - val_loss: 0.0192 - val_mse: 4.9211e-04\n",
      "Epoch 44/50\n",
      "432/432 [==============================] - 0s 122us/step - loss: 0.0283 - mse: 0.0015 - val_loss: 0.0229 - val_mse: 6.7941e-04\n",
      "Epoch 45/50\n",
      "432/432 [==============================] - 0s 139us/step - loss: 0.0287 - mse: 0.0015 - val_loss: 0.0173 - val_mse: 4.1112e-04\n",
      "Epoch 46/50\n",
      "432/432 [==============================] - 0s 132us/step - loss: 0.0278 - mse: 0.0015 - val_loss: 0.0141 - val_mse: 2.7556e-04\n",
      "Epoch 47/50\n",
      "432/432 [==============================] - 0s 126us/step - loss: 0.0278 - mse: 0.0015 - val_loss: 0.0164 - val_mse: 3.6455e-04\n",
      "Epoch 48/50\n",
      "432/432 [==============================] - 0s 112us/step - loss: 0.0275 - mse: 0.0015 - val_loss: 0.0141 - val_mse: 2.7281e-04\n",
      "Epoch 49/50\n",
      "432/432 [==============================] - 0s 125us/step - loss: 0.0273 - mse: 0.0014 - val_loss: 0.0209 - val_mse: 5.7279e-04\n",
      "Epoch 50/50\n",
      "432/432 [==============================] - 0s 127us/step - loss: 0.0277 - mse: 0.0015 - val_loss: 0.0151 - val_mse: 3.1034e-04\n"
     ]
    }
   ],
   "source": [
    "#entrenar el modelo\n",
    "EPOCHS=50\n",
    "\n",
    "model = crear_modeloFF()\n",
    "\n",
    "history=model.fit(x_train,y_train,epochs=EPOCHS,validation_data=(x_val,y_val),batch_size=PASOS)"
   ]
  },
  {
   "cell_type": "code",
   "execution_count": 9,
   "metadata": {},
   "outputs": [
    {
     "data": {
      "image/png": "[encoded data removed]",
      "text/plain": [
       "<Figure size 1152x648 with 1 Axes>"
      ]
     },
     "metadata": {
      "needs_background": "light"
     },
     "output_type": "display_data"
    }
   ],
   "source": [
    "#Validación del modelo\n",
    "results=model.predict(x_val)\n",
    "plt.scatter(range(len(y_val)),y_val,c='g')\n",
    "plt.scatter(range(len(results)),results,c='r')\n",
    "plt.title('validate')\n",
    "plt.show()"
   ]
  },
  {
   "cell_type": "code",
   "execution_count": 11,
   "metadata": {},
   "outputs": [
    {
     "data": {
      "text/plain": [
       "fecha\n",
       "2021-07-01    2172\n",
       "2021-07-02    2187\n",
       "2021-07-03    1556\n",
       "2021-07-04    1027\n",
       "2021-07-05     593\n",
       "2021-06-22     291\n",
       "2021-06-23     285\n",
       "2021-06-24     306\n",
       "2021-06-25     315\n",
       "2021-06-26     320\n",
       "2021-06-27     321\n",
       "2021-06-28     324\n",
       "2021-06-29     337\n",
       "2021-06-30     361\n",
       "Name: intubados, dtype: int64"
      ]
     },
     "execution_count": 11,
     "metadata": {},
     "output_type": "execute_result"
    }
   ],
   "source": [
    "#tomamos los últimos días\n",
    "ultimosDias = intubados['2021-06-22':'2021-07-05']\n",
    "ultimosDias"
   ]
  },
  {
   "cell_type": "code",
   "execution_count": 12,
   "metadata": {},
   "outputs": [
    {
     "data": {
      "text/html": [
       "<div>\n",
       "<style scoped>\n",
       "    .dataframe tbody tr th:only-of-type {\n",
       "        vertical-align: middle;\n",
       "    }\n",
       "\n",
       "    .dataframe tbody tr th {\n",
       "        vertical-align: top;\n",
       "    }\n",
       "\n",
       "    .dataframe thead th {\n",
       "        text-align: right;\n",
       "    }\n",
       "</style>\n",
       "<table border=\"1\" class=\"dataframe\">\n",
       "  <thead>\n",
       "    <tr style=\"text-align: right;\">\n",
       "      <th></th>\n",
       "      <th>var1(t-7)</th>\n",
       "      <th>var1(t-6)</th>\n",
       "      <th>var1(t-5)</th>\n",
       "      <th>var1(t-4)</th>\n",
       "      <th>var1(t-3)</th>\n",
       "      <th>var1(t-2)</th>\n",
       "      <th>var1(t-1)</th>\n",
       "    </tr>\n",
       "  </thead>\n",
       "  <tbody>\n",
       "    <tr>\n",
       "      <th>7</th>\n",
       "      <td>0.984227</td>\n",
       "      <td>1.000000</td>\n",
       "      <td>0.336488</td>\n",
       "      <td>-0.219769</td>\n",
       "      <td>-0.676130</td>\n",
       "      <td>-0.993691</td>\n",
       "      <td>-1.000000</td>\n",
       "    </tr>\n",
       "    <tr>\n",
       "      <th>8</th>\n",
       "      <td>1.000000</td>\n",
       "      <td>0.336488</td>\n",
       "      <td>-0.219769</td>\n",
       "      <td>-0.676130</td>\n",
       "      <td>-0.993691</td>\n",
       "      <td>-1.000000</td>\n",
       "      <td>-0.977918</td>\n",
       "    </tr>\n",
       "    <tr>\n",
       "      <th>9</th>\n",
       "      <td>0.336488</td>\n",
       "      <td>-0.219769</td>\n",
       "      <td>-0.676130</td>\n",
       "      <td>-0.993691</td>\n",
       "      <td>-1.000000</td>\n",
       "      <td>-0.977918</td>\n",
       "      <td>-0.968454</td>\n",
       "    </tr>\n",
       "    <tr>\n",
       "      <th>10</th>\n",
       "      <td>-0.219769</td>\n",
       "      <td>-0.676130</td>\n",
       "      <td>-0.993691</td>\n",
       "      <td>-1.000000</td>\n",
       "      <td>-0.977918</td>\n",
       "      <td>-0.968454</td>\n",
       "      <td>-0.963197</td>\n",
       "    </tr>\n",
       "    <tr>\n",
       "      <th>11</th>\n",
       "      <td>-0.676130</td>\n",
       "      <td>-0.993691</td>\n",
       "      <td>-1.000000</td>\n",
       "      <td>-0.977918</td>\n",
       "      <td>-0.968454</td>\n",
       "      <td>-0.963197</td>\n",
       "      <td>-0.962145</td>\n",
       "    </tr>\n",
       "    <tr>\n",
       "      <th>12</th>\n",
       "      <td>-0.993691</td>\n",
       "      <td>-1.000000</td>\n",
       "      <td>-0.977918</td>\n",
       "      <td>-0.968454</td>\n",
       "      <td>-0.963197</td>\n",
       "      <td>-0.962145</td>\n",
       "      <td>-0.958991</td>\n",
       "    </tr>\n",
       "    <tr>\n",
       "      <th>13</th>\n",
       "      <td>-1.000000</td>\n",
       "      <td>-0.977918</td>\n",
       "      <td>-0.968454</td>\n",
       "      <td>-0.963197</td>\n",
       "      <td>-0.962145</td>\n",
       "      <td>-0.958991</td>\n",
       "      <td>-0.945321</td>\n",
       "    </tr>\n",
       "  </tbody>\n",
       "</table>\n",
       "</div>"
      ],
      "text/plain": [
       "    var1(t-7)  var1(t-6)  var1(t-5)  var1(t-4)  var1(t-3)  var1(t-2)  \\\n",
       "7    0.984227   1.000000   0.336488  -0.219769  -0.676130  -0.993691   \n",
       "8    1.000000   0.336488  -0.219769  -0.676130  -0.993691  -1.000000   \n",
       "9    0.336488  -0.219769  -0.676130  -0.993691  -1.000000  -0.977918   \n",
       "10  -0.219769  -0.676130  -0.993691  -1.000000  -0.977918  -0.968454   \n",
       "11  -0.676130  -0.993691  -1.000000  -0.977918  -0.968454  -0.963197   \n",
       "12  -0.993691  -1.000000  -0.977918  -0.968454  -0.963197  -0.962145   \n",
       "13  -1.000000  -0.977918  -0.968454  -0.963197  -0.962145  -0.958991   \n",
       "\n",
       "    var1(t-1)  \n",
       "7   -1.000000  \n",
       "8   -0.977918  \n",
       "9   -0.968454  \n",
       "10  -0.963197  \n",
       "11  -0.962145  \n",
       "12  -0.958991  \n",
       "13  -0.945321  "
      ]
     },
     "execution_count": 12,
     "metadata": {},
     "output_type": "execute_result"
    }
   ],
   "source": [
    "#Volver a procesar los datos\n",
    "values = ultimosDias.values\n",
    "values = values.astype('float32')\n",
    "# Normalizar\n",
    "values=values.reshape(-1, 1) # esto lo hacemos porque tenemos 1 sola dimension\n",
    "scaled = scaler.fit_transform(values)\n",
    "reframed = series_to_supervised(scaled, PASOS, 1)\n",
    "reframed.drop(reframed.columns[[7]], axis=1, inplace=True)\n",
    "reframed.head(7)"
   ]
  },
  {
   "cell_type": "code",
   "execution_count": 13,
   "metadata": {},
   "outputs": [
    {
     "data": {
      "text/plain": [
       "array([[[-1.        , -0.97791797, -0.96845424, -0.96319664,\n",
       "         -0.9621451 , -0.9589906 , -0.9453207 ]]], dtype=float32)"
      ]
     },
     "execution_count": 13,
     "metadata": {},
     "output_type": "execute_result"
    }
   ],
   "source": [
    "#Convertir a array la última semana\n",
    "values = reframed.values\n",
    "x_test = values[6:, :]\n",
    "x_test = x_test.reshape((x_test.shape[0], 1, x_test.shape[1]))\n",
    "x_test"
   ]
  },
  {
   "cell_type": "code",
   "execution_count": 14,
   "metadata": {},
   "outputs": [
    {
     "name": "stdout",
     "output_type": "stream",
     "text": [
      "[[[-1.         -0.97791797 -0.96845424 -0.96319664 -0.9621451\n",
      "   -0.9589906  -0.9453207 ]]]\n",
      "[[[-0.97791797 -0.96845424 -0.96319664 -0.9621451  -0.9589906\n",
      "   -0.9453207  -0.8560839 ]]]\n",
      "[[[-0.96845424 -0.96319664 -0.9621451  -0.9589906  -0.9453207\n",
      "   -0.8560839  -0.8361746 ]]]\n",
      "[[[-0.96319664 -0.9621451  -0.9589906  -0.9453207  -0.8560839\n",
      "   -0.8361746  -0.8037949 ]]]\n",
      "[[[-0.9621451 -0.9589906 -0.9453207 -0.8560839 -0.8361746 -0.8037949\n",
      "   -0.785542 ]]]\n",
      "[[[-0.9589906  -0.9453207  -0.8560839  -0.8361746  -0.8037949\n",
      "   -0.785542   -0.77458435]]]\n",
      "[[[-0.9453207  -0.8560839  -0.8361746  -0.8037949  -0.785542\n",
      "   -0.77458435 -0.7577111 ]]]\n"
     ]
    }
   ],
   "source": [
    "#Predicción\n",
    "def agregarNuevoValor(x_test,nuevoValor):\n",
    "    for i in range(x_test.shape[2]-1):\n",
    "        x_test[0][0][i] = x_test[0][0][i+1]\n",
    "    x_test[0][0][x_test.shape[2]-1]=nuevoValor\n",
    "    return x_test\n",
    "\n",
    "results=[]\n",
    "for i in range(7):\n",
    "    parcial=model.predict(x_test)\n",
    "    results.append(parcial[0])\n",
    "    print(x_test)\n",
    "    x_test=agregarNuevoValor(x_test,parcial[0])"
   ]
  },
  {
   "cell_type": "code",
   "execution_count": 15,
   "metadata": {},
   "outputs": [
    {
     "data": {
      "text/plain": [
       "array([[421.86418863],\n",
       "       [440.79795512],\n",
       "       [471.59103896],\n",
       "       [488.94955654],\n",
       "       [499.37029013],\n",
       "       [515.41674269],\n",
       "       [510.35826072]])"
      ]
     },
     "execution_count": 15,
     "metadata": {},
     "output_type": "execute_result"
    }
   ],
   "source": [
    "#Imprimir predicción de la siguiente semana\n",
    "adimen = [x for x in results]    \n",
    "inverted = scaler.inverse_transform(adimen)\n",
    "inverted"
   ]
  },
  {
   "cell_type": "code",
   "execution_count": null,
   "metadata": {},
   "outputs": [],
   "source": []
  }
 ],
 "metadata": {
  "kernelspec": {
   "display_name": "Python 3",
   "language": "python",
   "name": "python3"
  },
  "language_info": {
   "codemirror_mode": {
    "name": "ipython",
    "version": 3
   },
   "file_extension": ".py",
   "mimetype": "text/x-python",
   "name": "python",
   "nbconvert_exporter": "python",
   "pygments_lexer": "ipython3",
   "version": "3.7.6"
  }
 },
 "nbformat": 4,
 "nbformat_minor": 4
}
